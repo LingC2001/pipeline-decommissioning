{
 "cells": [
  {
   "cell_type": "markdown",
   "id": "0fd113f2",
   "metadata": {},
   "source": [
    "## This notebook is for dataset preparation, including resizing and splitting for both Internal and External images."
   ]
  },
  {
   "cell_type": "markdown",
   "id": "2916c215",
   "metadata": {},
   "source": [
    "### Import libraries"
   ]
  },
  {
   "cell_type": "code",
   "execution_count": 1,
   "id": "54d0d097",
   "metadata": {},
   "outputs": [],
   "source": [
    "import torchvision.transforms as T\n",
    "from PIL import Image\n",
    "from matplotlib import pyplot\n",
    "import numpy as np\n",
    "import os\n",
    "import torch\n",
    "from torchvision import datasets, models\n",
    "from torch.utils.data import Dataset, DataLoader\n",
    "\n",
    "import torch.nn as nn\n",
    "import torch.nn.functional as F\n",
    "import torch.optim as optim\n",
    "import torchvision\n",
    "\n",
    "import cv2\n",
    "import random\n",
    "import math"
   ]
  },
  {
   "cell_type": "markdown",
   "id": "dab9f61c",
   "metadata": {},
   "source": [
    "### Resize images and setup labels"
   ]
  },
  {
   "cell_type": "code",
   "execution_count": 2,
   "id": "15feb940",
   "metadata": {},
   "outputs": [
    {
     "name": "stdout",
     "output_type": "stream",
     "text": [
      "The number of images in train_images/no_external_damage is 26\n",
      "The number of images in train_images/no_internal_damage is 19\n",
      "The number of images in train_images/external_damage is 76\n",
      "The number of images in train_images/internal_damage is 44\n",
      "The number of images in test_images/no_external_damage is 13\n",
      "The number of images in test_images/no_internal_damage is 6\n",
      "The number of images in test_images/external_damage is 22\n",
      "The number of images in test_images/internal_damage is 8\n",
      "The number of training images for external damage are 165\n",
      "The number of test images for external damage are 49\n"
     ]
    }
   ],
   "source": [
    "train_imgs1 = []\n",
    "train_labels1 = []\n",
    "test_imgs1 = []\n",
    "test_labels1 = []\n",
    "\n",
    "filepath_no_external_damage = 'train_images/no_external_damage'\n",
    "filepath_external_damage = 'train_images/external_damage'\n",
    "filepath_no_internal_damage = 'train_images/no_internal_damage'\n",
    "filepath_internal_damage = 'train_images/internal_damage'\n",
    "filepath_test_no_ext = 'test_images/no_external_damage'\n",
    "filepath_test_ext = 'test_images/external_damage'\n",
    "filepath_test_no_int = 'test_images/no_internal_damage'\n",
    "filepath_test_int = 'test_images/internal_damage'\n",
    "no_transforms = T.Compose([T.ToTensor()])\n",
    "\n",
    "# resize images and assign the corresponding label according to the folder structure\n",
    "def resize_and_label(filepath,train_imgs1,train_labels1,test_imgs1,test_labels1):\n",
    "    print('The number of images in',filepath, 'is',len(os.listdir(filepath)))\n",
    "    for img in os.listdir(filepath):\n",
    "        if img.endswith('.jpg') or img.endswith('.png') or img.endswith('.JPG'):\n",
    "            # Read image\n",
    "            img = cv2.imread(filepath + '/' + img)\n",
    "            \n",
    "            # Crop image to square\n",
    "            crop_size = min(img.shape[0], img.shape[1])\n",
    "            start_row = (img.shape[0]-crop_size)//2\n",
    "            end_row = (img.shape[0]-crop_size)//2 + crop_size\n",
    "            start_col = (img.shape[1]-crop_size)//2\n",
    "            end_col = (img.shape[1]-crop_size)//2 + crop_size\n",
    "            img = img[start_row:end_row, start_col:end_col]\n",
    "            \n",
    "            # Rescale image\n",
    "            img = cv2.resize(img, (256,256), interpolation=cv2.INTER_CUBIC)\n",
    "            img = no_transforms(np.array(img))\n",
    "            img = np.moveaxis(img.numpy(), 0, 2)\n",
    "\n",
    "            # Model1 deals with external damage and Model2 deals with internal damage\n",
    "            if filepath == filepath_no_external_damage: # Training No external damage\n",
    "                train_imgs1.append(img)\n",
    "                train_labels1.append(0)\n",
    "            elif filepath == filepath_no_internal_damage: # Training No internal damage \n",
    "                train_imgs1.append(img)\n",
    "                train_labels1.append(0)\n",
    "            elif filepath == filepath_external_damage: # Training External damage \n",
    "                train_imgs1.append(img)\n",
    "                train_labels1.append(1)\n",
    "            elif filepath == filepath_internal_damage: # Training Internal damage \n",
    "                train_imgs1.append(img)\n",
    "                train_labels1.append(2)\n",
    "            elif filepath == filepath_test_no_ext: # Testing No external damage \n",
    "                test_imgs1.append(img)\n",
    "                test_labels1.append(0)\n",
    "            elif filepath == filepath_test_no_int: # Testing No internal damage \n",
    "                test_imgs1.append(img)\n",
    "                test_labels1.append(0)\n",
    "            elif filepath == filepath_test_ext: # Testing External damage\n",
    "                test_imgs1.append(img)\n",
    "                test_labels1.append(1)\n",
    "            elif filepath == filepath_test_int: # Testing Internal damage \n",
    "                test_imgs1.append(img)\n",
    "                test_labels1.append(2)\n",
    "\n",
    "    return train_imgs1, train_labels1, test_imgs1, test_labels1\n",
    "\n",
    "train_imgs1, train_labels1, test_imgs1, test_labels1 = resize_and_label(filepath_no_external_damage,train_imgs1,train_labels1,test_imgs1,test_labels1)\n",
    "train_imgs1, train_labels1, test_imgs1, test_labels1 = resize_and_label(filepath_no_internal_damage,train_imgs1,train_labels1,test_imgs1,test_labels1)\n",
    "train_imgs1, train_labels1, test_imgs1, test_labels1 = resize_and_label(filepath_external_damage,train_imgs1,train_labels1,test_imgs1,test_labels1)\n",
    "train_imgs1, train_labels1, test_imgs1, test_labels1 = resize_and_label(filepath_internal_damage,train_imgs1,train_labels1,test_imgs1,test_labels1)\n",
    "train_imgs1, train_labels1, test_imgs1, test_labels1 = resize_and_label(filepath_test_no_ext,train_imgs1,train_labels1,test_imgs1,test_labels1)\n",
    "train_imgs1, train_labels1, test_imgs1, test_labels1 = resize_and_label(filepath_test_no_int,train_imgs1,train_labels1,test_imgs1,test_labels1)\n",
    "train_imgs1, train_labels1, test_imgs1, test_labels1 = resize_and_label(filepath_test_ext,train_imgs1,train_labels1,test_imgs1,test_labels1)\n",
    "train_imgs1, train_labels1, test_imgs1, test_labels1 = resize_and_label(filepath_test_int,train_imgs1,train_labels1,test_imgs1,test_labels1)\n",
    "\n",
    "# set seed and shuffle for images and labels\n",
    "random.seed(12)\n",
    "random.shuffle(train_imgs1)\n",
    "random.seed(12) \n",
    "random.shuffle(train_labels1)\n",
    "\n",
    "\n",
    "# uncomment if you want to see the images and its corresponding labels\n",
    "# for i in range(len(train_imgs1)):\n",
    "#     img = train_imgs1[i]\n",
    "#     pyplot.imshow(cv2.cvtColor(img, cv2.COLOR_BGR2RGB))\n",
    "#     pyplot.axis(\"off\")\n",
    "#     pyplot.show()\n",
    "#     print(train_labels[i])\n",
    "\n",
    "# for i in range(len(test_imgs1)):\n",
    "#     img = test_imgs1[i]\n",
    "#     pyplot.imshow(cv2.cvtColor(img, cv2.COLOR_BGR2RGB))\n",
    "#     pyplot.axis(\"off\")\n",
    "#     pyplot.show()\n",
    "#     print(test_labels[i])\n",
    "\n",
    "print('The number of training images for external damage are',len(train_labels1))\n",
    "print('The number of test images for external damage are',len(test_labels1))"
   ]
  },
  {
   "cell_type": "markdown",
   "id": "deb74a67",
   "metadata": {},
   "source": [
    "### Split training, validation and test dataset"
   ]
  },
  {
   "cell_type": "code",
   "execution_count": 3,
   "id": "1af67020",
   "metadata": {},
   "outputs": [],
   "source": [
    "# n = len(train_imgs)\n",
    "# valid_imgs = train_imgs[math.floor(0.85*n):n]\n",
    "# valid_labels = train_labels[math.floor(0.85*n):n]\n",
    "valid_imgs = []\n",
    "valid_labels = []\n",
    "# test_imgs = train_imgs[math.floor(0.7*n):n]\n",
    "# test_labels = train_labels[math.floor(0.7*n):n]\n",
    "# train_imgs = train_imgs[0:math.ceil(0.7*n)]\n",
    "# train_labels = train_labels[0:math.ceil(0.7*n)]"
   ]
  },
  {
   "cell_type": "code",
   "execution_count": 4,
   "id": "8e0d0b19",
   "metadata": {},
   "outputs": [],
   "source": [
    "# save data into Models folder\n",
    "np.savez(\"Models/both\", train_imgs=train_imgs1, train_labels=train_labels1, valid_imgs=valid_imgs, valid_labels=valid_labels, test_imgs=test_imgs1, test_labels=test_labels1)\n"
   ]
  }
 ],
 "metadata": {
  "kernelspec": {
   "display_name": "Python 3.10.6 ('venv')",
   "language": "python",
   "name": "python3"
  },
  "language_info": {
   "codemirror_mode": {
    "name": "ipython",
    "version": 3
   },
   "file_extension": ".py",
   "mimetype": "text/x-python",
   "name": "python",
   "nbconvert_exporter": "python",
   "pygments_lexer": "ipython3",
   "version": "3.10.6"
  },
  "vscode": {
   "interpreter": {
    "hash": "53c21ae1c3c5da69028944ced3d28a94d6ae722c2fff96fcb752762d95e52b75"
   }
  }
 },
 "nbformat": 4,
 "nbformat_minor": 5
}
